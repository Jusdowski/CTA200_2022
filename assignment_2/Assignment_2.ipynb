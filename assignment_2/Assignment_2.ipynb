{
 "cells": [
  {
   "cell_type": "markdown",
   "id": "803f8db8",
   "metadata": {},
   "source": [
    "**Part 1**"
   ]
  },
  {
   "cell_type": "code",
   "execution_count": 2,
   "id": "25ac8f3f",
   "metadata": {},
   "outputs": [],
   "source": [
    "def f(x): \n",
    "    '''Calculates x**3 - x**2 - 1 when given a value for x.\n",
    "    \n",
    "    Parameters\n",
    "    ----------\n",
    "    x : number (float or integer)\n",
    "        x coordinate\n",
    "   \n",
    "    Returns\n",
    "    -------\n",
    "    y : number (float or integer)\n",
    "        value of x**3 - x**2 - 1\n",
    "    '''\n",
    "    y = x**3 - x**2 - 1\n",
    "    \n",
    "    return y"
   ]
  },
  {
   "cell_type": "code",
   "execution_count": 3,
   "id": "8f7292a7",
   "metadata": {},
   "outputs": [],
   "source": [
    "def df(x): \n",
    "    '''Calculates 3x**2 - 2x when given a value for x. This is the derivative of the function f(x) \"\"\"\n",
    "    \n",
    "    Parameters\n",
    "    ----------\n",
    "    x : number (float or integer)\n",
    "        x coordinate\n",
    "   \n",
    "    Returns\n",
    "    -------\n",
    "    y : number (float or integer)\n",
    "        value of 3x**2 - 2x \n",
    "    '''\n",
    "    y = 3*x**2 - 2*x\n",
    "    \n",
    "    return y"
   ]
  },
  {
   "cell_type": "markdown",
   "id": "96054cf9",
   "metadata": {},
   "source": [
    "**Part 2**"
   ]
  },
  {
   "cell_type": "code",
   "execution_count": 4,
   "id": "7ea4cc8a",
   "metadata": {},
   "outputs": [],
   "source": [
    "def newton(f, df, x0, epsilon = 1e-6, max_iter=30):\n",
    "    \"\"\"Performs a Newton iteration of the function f with derivative df to find \n",
    "    the approximate solution of f(x) = 0 starting from an inital guess of the root, x0 \n",
    "    \n",
    "    Parameters\n",
    "    ----------\n",
    "    f: function\n",
    "       The function for which we are looking to find a root x such that f(x) = 0\n",
    "    \n",
    "    df: function\n",
    "        The derivative of f(x)\n",
    "    \n",
    "    x0 : number (float or integer)\n",
    "         The intial guess for the root x such that f(x) = 0\n",
    "    \n",
    "    epsilon: number (float or integer)\n",
    "             The stopping criteria such that abs(f(x)) < epsilon \n",
    "             \n",
    "    max_inter: integer\n",
    "               The maximum number of Newton iterations \n",
    "    \n",
    "    Returns\n",
    "    ------\n",
    "    xn: float\n",
    "        If the method is successful (abs(f(xn)) < epsilon), the function prints, \"Found root in N iterations\"\n",
    "        and returns the root of the function, xn that was found by iterating through the formula \n",
    "        xn = xn - f(xn)/df(xn) until abs(f(xn)) < epsilon. Otherwise, the function prints \"Iteration failed\" and \n",
    "        returns None.\n",
    "\n",
    "    \"\"\" \n",
    "    \n",
    "    xn = x0\n",
    "    \n",
    "    for N in range(0,max_iter):\n",
    "        \n",
    "        if abs(f(xn)) < epsilon: \n",
    "            print(\"Found root in\",N,\"iterations\")\n",
    "            return xn \n",
    "        \n",
    "        if df(xn) == 0:\n",
    "            print(\"Iteration failed\")\n",
    "            return None\n",
    "            \n",
    "        xn = xn - f(xn)/df(xn)\n",
    "    \n",
    "    print(\"Iteration failed\")\n",
    "    return None \n",
    "        "
   ]
  },
  {
   "cell_type": "markdown",
   "id": "41b27ab1",
   "metadata": {},
   "source": [
    "**Part 3**"
   ]
  },
  {
   "cell_type": "code",
   "execution_count": 5,
   "id": "aff4d27b",
   "metadata": {},
   "outputs": [
    {
     "name": "stdout",
     "output_type": "stream",
     "text": [
      "Found root in 5 iterations\n"
     ]
    },
    {
     "data": {
      "text/plain": [
       "1.4655713749070918"
      ]
     },
     "execution_count": 5,
     "metadata": {},
     "output_type": "execute_result"
    }
   ],
   "source": [
    "#performing a newton iteration of the function f with derivative df, starting from an x0 of 1 \n",
    "\n",
    "newton(f, df, 1)"
   ]
  },
  {
   "cell_type": "code",
   "execution_count": 6,
   "id": "e8c49027",
   "metadata": {},
   "outputs": [
    {
     "name": "stdout",
     "output_type": "stream",
     "text": [
      "Found root in 6 iterations\n"
     ]
    },
    {
     "data": {
      "text/plain": [
       "1.4655712318767877"
      ]
     },
     "execution_count": 6,
     "metadata": {},
     "output_type": "execute_result"
    }
   ],
   "source": [
    "#performing the same newton iteration as above but reducing epsilon to 1e-8\n",
    "\n",
    "newton(f, df, 1, 1e-8)"
   ]
  },
  {
   "cell_type": "markdown",
   "id": "b33742d9",
   "metadata": {},
   "source": [
    "*The above shows that the code still works when epsilon is reduced to 1e-8 and that it takes one more iteration to converge.*"
   ]
  },
  {
   "cell_type": "code",
   "execution_count": 9,
   "id": "686fc5b8",
   "metadata": {},
   "outputs": [
    {
     "name": "stdout",
     "output_type": "stream",
     "text": [
      "Found root in 9 iterations\n"
     ]
    },
    {
     "data": {
      "text/plain": [
       "1.465571232470246"
      ]
     },
     "execution_count": 9,
     "metadata": {},
     "output_type": "execute_result"
    }
   ],
   "source": [
    "#performing a newton iteration of the function f with derivative df, starting from an x0 of 10\n",
    "\n",
    "newton(f, df, 10)"
   ]
  },
  {
   "cell_type": "code",
   "execution_count": 10,
   "id": "fa428e0e",
   "metadata": {},
   "outputs": [
    {
     "name": "stdout",
     "output_type": "stream",
     "text": [
      "Found root in 9 iterations\n"
     ]
    },
    {
     "data": {
      "text/plain": [
       "1.465571232470246"
      ]
     },
     "execution_count": 10,
     "metadata": {},
     "output_type": "execute_result"
    }
   ],
   "source": [
    "#performing the same newton iteration as above but reducing epsilon to 1e-8\n",
    "\n",
    "newton(f, df, 10, 1e-8)"
   ]
  },
  {
   "cell_type": "markdown",
   "id": "1625fc09",
   "metadata": {},
   "source": [
    "*The above shows that the code still works when epsilon is reduced to 1e-8 and that the number of iterations does not change*"
   ]
  },
  {
   "cell_type": "code",
   "execution_count": 11,
   "id": "e4cb259d",
   "metadata": {},
   "outputs": [
    {
     "name": "stdout",
     "output_type": "stream",
     "text": [
      "Iteration failed\n"
     ]
    }
   ],
   "source": [
    "#iteration failed example\n",
    "\n",
    "#performing a newton iteration of the function f with derivative df, starting from an x0 of 100000\n",
    "\n",
    "newton(f, df, 100000)"
   ]
  }
 ],
 "metadata": {
  "kernelspec": {
   "display_name": "Python 3 (ipykernel)",
   "language": "python",
   "name": "python3"
  },
  "language_info": {
   "codemirror_mode": {
    "name": "ipython",
    "version": 3
   },
   "file_extension": ".py",
   "mimetype": "text/x-python",
   "name": "python",
   "nbconvert_exporter": "python",
   "pygments_lexer": "ipython3",
   "version": "3.10.2"
  }
 },
 "nbformat": 4,
 "nbformat_minor": 5
}
